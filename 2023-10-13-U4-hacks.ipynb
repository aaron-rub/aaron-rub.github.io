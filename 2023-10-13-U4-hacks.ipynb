{
 "cells": [
  {
   "cell_type": "markdown",
   "metadata": {},
   "source": [
    "<h4> POPCORN HACK: Run the code.. what happened? How can we fix it?</h4>\n",
    "\n",
    "Tell us below!\n",
    "\n",
    "There were two problems that could essentialy fix the code, first it never exits the loop. And second you need to subtract sub.length from word.length\n",
    "\n",
    "<br>\n",
    "<br>\n",
    "\n",
    "<h4> Another issue:</h4>\n",
    "\n",
    "<h3> I T E R A T E </h3>\n",
    "What if our substring was the word \"RATE\"? Note that RATE is at the end of the whole string\n",
    "\n",
    "<br>\n",
    "<br>\n",
    "\n",
    "<h3> HACKS </h3>\n",
    "\n",
    "**Create a algorithm similar to the one above. Except this time, use iteration to count the number of vowels within the main string.**\n",
    "\n",
    "HINT: Use the boolean expressions we have learned in previous lessons. Which would you use when comparing your \"window\" with multiple options of substrings?"
   ]
  },
  {
   "cell_type": "markdown",
   "metadata": {},
   "source": [
    "### Popcorn HACK\n",
    "\n",
    "When the targetNumber is found, you can print a message and use the break statement to exit the loop. When it's not found, you can print a message indicating that the number was not found."
   ]
  },
  {
   "cell_type": "code",
   "execution_count": null,
   "metadata": {
    "vscode": {
     "languageId": "plaintext"
    }
   },
   "outputs": [],
   "source": [
    "public class BreakHack {\n",
    "    public static void main(String[] args) {\n",
    "        int targetNumber = 42; //numb we want\n",
    "        int[] numbers = {10, 20, 30, 40, 50, 60, 70}; //numb array\n",
    "        boolean found = false; // A boolean to keep track of whether the target number is found\n",
    "\n",
    "        for (int number : numbers) {\n",
    "            if (number == targetNumber) {\n",
    "                found = true;\n",
    "                // Print a message if the number is found\n",
    "                System.out.println(\"Number \" + targetNumber + \" is found!\");\n",
    "                // Break out of the loop\n",
    "                break;\n",
    "            }\n",
    "        }\n",
    "\n",
    "        // Check if the number isn't found and print a message if it's not found\n",
    "        if (!found) {\n",
    "            System.out.println(\"Number \" + targetNumber + \" wasn't found.\");\n",
    "        }\n",
    "    }\n",
    "}\n",
    "BreakHack.main(null);"
   ]
  }
 ],
 "metadata": {
  "language_info": {
   "name": "python"
  },
  "orig_nbformat": 4
 },
 "nbformat": 4,
 "nbformat_minor": 2
}
