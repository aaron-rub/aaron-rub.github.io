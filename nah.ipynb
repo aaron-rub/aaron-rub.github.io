{
 "cells": [
  {
   "cell_type": "code",
   "execution_count": 16,
   "metadata": {},
   "outputs": [
    {
     "data": {
      "text/plain": [
       "1"
      ]
     },
     "execution_count": 16,
     "metadata": {},
     "output_type": "execute_result"
    }
   ],
   "source": [
    "# import the required libraries\n",
    "import numpy as np\n",
    "import pandas as pd\n",
    "from sqlalchemy import create_engine\n",
    "\n",
    "# create a connection to your SQL database\n",
    "engine = create_engine('sqlite:///mydatabase.db')\n",
    "\n",
    "# get input from the user\n",
    "num1 = float(input(\"Enter the first number: \"))\n",
    "num2 = float(input(\"Enter the second number: \"))\n",
    "\n",
    "# calculate the tangent using NumPy\n",
    "result = np.tan([num1, num2])\n",
    "\n",
    "# write the results to an SQL table using Pandas\n",
    "result_df = pd.DataFrame(result.reshape(1, 2), columns=['tangent of num1', 'tangent of num2'])\n",
    "result_df.to_sql('myresulttable', engine, if_exists='replace', index=False)\n"
   ]
  },
  {
   "cell_type": "code",
   "execution_count": 15,
   "metadata": {},
   "outputs": [],
   "source": [
    "import sqlite3\n",
    "\n",
    "# create a connection to your SQLite database\n",
    "conn = sqlite3.connect('mydatabase.db')\n",
    "\n",
    "# create a cursor object\n",
    "cur = conn.cursor()\n",
    "\n",
    "# create a table to store inputs and results of tangent calculations\n",
    "cur.execute('''CREATE TABLE IF NOT EXISTS tan_results\n",
    "               (id INTEGER PRIMARY KEY,\n",
    "                num1 REAL,\n",
    "                num2 REAL,\n",
    "                result1 REAL,\n",
    "                result2 REAL)''')\n",
    "\n",
    "# commit the changes\n",
    "conn.commit()\n",
    "\n",
    "# close the connection\n",
    "conn.close()\n"
   ]
  }
 ],
 "metadata": {
  "kernelspec": {
   "display_name": "Python 3",
   "language": "python",
   "name": "python3"
  },
  "language_info": {
   "codemirror_mode": {
    "name": "ipython",
    "version": 3
   },
   "file_extension": ".py",
   "mimetype": "text/x-python",
   "name": "python",
   "nbconvert_exporter": "python",
   "pygments_lexer": "ipython3",
   "version": "3.10.10"
  },
  "orig_nbformat": 4
 },
 "nbformat": 4,
 "nbformat_minor": 2
}
